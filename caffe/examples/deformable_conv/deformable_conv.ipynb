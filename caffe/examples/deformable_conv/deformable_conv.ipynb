{
 "cells": [
  {
   "cell_type": "code",
   "execution_count": 1,
   "metadata": {
    "collapsed": true,
    "deletable": true,
    "editable": true
   },
   "outputs": [],
   "source": [
    "caffe_root  = '/mnt/lustre/chendagui/text_detect/'\n",
    "import sys\n",
    "sys.path.insert(0, caffe_root + 'python')\n",
    "import caffe\n",
    "import os\n",
    "from caffe import layers as L, params as P\n",
    "from caffe.proto import caffe_pb2"
   ]
  },
  {
   "cell_type": "code",
   "execution_count": 2,
   "metadata": {
    "collapsed": false,
    "deletable": true,
    "editable": true
   },
   "outputs": [],
   "source": [
    "def CNN(lmdb, batch_size):\n",
    "    n = caffe.NetSpec()\n",
    "    n.data, n.label = L.Data(batch_size=batch_size, backend=P.Data.LMDB, source=lmdb,\n",
    "                         transform_param=dict(scale=1./255), ntop=2)\n",
    "    # conv11\n",
    "    n.conv11 = L.Convolution(n.data, kernel_size=3, num_output=32, pad=1, weight_filler=dict(type='xavier'))\n",
    "    n.relu11 = L.ReLU(n.conv11, in_place=True)\n",
    "    n.bn11 = L.BatchNorm(n.relu11)\n",
    "    # conv12\n",
    "    n.conv12 = L.Convolution(n.bn11, kernel_size=3, num_output=64, stride=2 ,pad=1, weight_filler=dict(type='xavier'))\n",
    "    n.relu12 = L.ReLU(n.conv12, in_place=True)\n",
    "    n.bn12 = L.BatchNorm(n.relu12)\n",
    "    # conv21\n",
    "    n.conv21 = L.Convolution(n.bn12, kernel_size=3, num_output=128, pad=1, weight_filler=dict(type='xavier'))\n",
    "    n.relu21 = L.ReLU(n.conv21, in_place=True)\n",
    "    n.bn21 = L.BatchNorm(n.relu21)\n",
    "    # conv22\n",
    "    n.conv22 = L.Convolution(n.bn21, kernel_size=3, num_output=128, stride=2, pad=1, weight_filler=dict(type='xavier'))\n",
    "    n.relu22 = L.ReLU(n.conv22, in_place=True)\n",
    "    n.bn22 = L.BatchNorm(n.relu22)\n",
    "    \n",
    "    #out\n",
    "    n.pool = L.Pooling(n.bn22, pool=P.Pooling.AVE, global_pooling=True)\n",
    "    n.score = L.InnerProduct(n.pool, num_output=10, weight_filler=dict(type='xavier'))\n",
    "    n.loss = L.SoftmaxWithLoss(n.score, n.label)\n",
    "    n.acc = L.Accuracy(n.score, n.label, include=dict(phase=caffe.TEST))\n",
    "    \n",
    "    return n.to_proto()"
   ]
  },
  {
   "cell_type": "code",
   "execution_count": 3,
   "metadata": {
    "collapsed": false,
    "deletable": true,
    "editable": true
   },
   "outputs": [],
   "source": [
    "train_path = 'CNN_train.prototxt'\n",
    "test_path = 'CNN_test.prototxt'\n",
    "solver_path = 'CNN_solver.prototxt'\n",
    "with open(train_path, 'w') as f:\n",
    "    f.write(str(CNN('/mnt/lustre/chendagui/deform_mnist/deform_train_lmdb/', 64)))\n",
    "    \n",
    "with open(test_path, 'w') as f:\n",
    "    f.write(str(CNN('/mnt/lustre/chendagui/deform_mnist/deform_test_lmdb/', 100)))"
   ]
  },
  {
   "cell_type": "code",
   "execution_count": 10,
   "metadata": {
    "collapsed": true,
    "deletable": true,
    "editable": true
   },
   "outputs": [],
   "source": [
    "def solver(train_path, test_path, snapshot):\n",
    "    s = caffe_pb2.SolverParameter()\n",
    "    s.random_seed = 0xCAFFE\n",
    "    s.train_net = train_path\n",
    "    s.test_net.append(test_path)\n",
    "    s.test_interval = 1000\n",
    "    s.test_iter.append(1000)\n",
    "    s.max_iter = 20000\n",
    "    s.type = \"SGD\"\n",
    "    s.base_lr = 0.001\n",
    "    s.momentum = 0.9\n",
    "    s.weight_decay = 5e-4\n",
    "    s.lr_policy = 'inv'\n",
    "    s.gamma = 0.0001\n",
    "    s.power = 0.75\n",
    "    s.display = 1000\n",
    "    s.snapshot = 5000\n",
    "    s.snapshot_prefix = snapshot\n",
    "    s.solver_mode = caffe_pb2.SolverParameter.GPU\n",
    "    return s"
   ]
  },
  {
   "cell_type": "code",
   "execution_count": 11,
   "metadata": {
    "collapsed": false,
    "deletable": true,
    "editable": true
   },
   "outputs": [],
   "source": [
    "with open(solver_path, 'w') as f:\n",
    "    f.write(str(solver(train_path, test_path, 'snapshot/CNN')))"
   ]
  },
  {
   "cell_type": "code",
   "execution_count": 6,
   "metadata": {
    "collapsed": true,
    "deletable": true,
    "editable": true
   },
   "outputs": [],
   "source": [
    "def deform_CNN(lmdb, batch_size, trainable=True):\n",
    "    if trainable:\n",
    "        param = [dict(lr_mult=1), dict(lr_mult=1)]\n",
    "        global_stats = False\n",
    "    else:\n",
    "        param = [dict(lr_mult=0), dict(lr_mult=0)]\n",
    "        global_stats = True\n",
    "    n = caffe.NetSpec()\n",
    "    n.data, n.label = L.Data(batch_size=batch_size, backend=P.Data.LMDB, source=lmdb,\n",
    "                         transform_param=dict(scale=1./255), ntop=2)\n",
    "    # conv11\n",
    "    n.conv11 = L.Convolution(n.data, kernel_size=3, num_output=32, pad=1, param=param, weight_filler=dict(type='xavier'))\n",
    "    n.relu11 = L.ReLU(n.conv11, in_place=True)\n",
    "    n.bn11 = L.BatchNorm(n.relu11, use_global_stats=global_stats)\n",
    "    n.offset11 = L.Convolution(n.bn11, kernel_size=3, num_output=2, pad=1, weight_filler=dict(type='constant', value=0))\n",
    "    n.deform11 = L.DeformConv(n.bn11, n.offset11, kernel_h=1, kernel_w=1, propagate_down=[1,1])\n",
    "    # conv12\n",
    "    \n",
    "    n.conv12 = L.Convolution(n.deform11, kernel_size=3, num_output=64, stride=2 ,pad=1, param=param, weight_filler=dict(type='xavier'))\n",
    "    n.relu12 = L.ReLU(n.conv12, in_place=True)\n",
    "    n.bn12 = L.BatchNorm(n.relu12, use_global_stats=global_stats)\n",
    "    n.offset12 = L.Convolution(n.bn12, kernel_size=3, num_output=2, pad=1, weight_filler=dict(type='constant', value=0))\n",
    "    n.deform12 = L.DeformConv(n.bn12, n.offset12, kernel_h=1, kernel_w=1, propagate_down=[1,1])\n",
    "    \n",
    "    # conv21\n",
    "    n.conv21 = L.Convolution(n.deform12, kernel_size=3, num_output=128, pad=1, param=param, weight_filler=dict(type='xavier'))\n",
    "    n.relu21 = L.ReLU(n.conv21, in_place=True)\n",
    "    n.bn21 = L.BatchNorm(n.relu21, use_global_stats=global_stats)\n",
    "    n.offset21 = L.Convolution(n.bn21, kernel_size=3, num_output=2, pad=1, weight_filler=dict(type='constant', value=0))\n",
    "    n.deform21 = L.DeformConv(n.bn21, n.offset21, kernel_h=1, kernel_w=1, propagate_down=[1,1])\n",
    "    \n",
    "    # conv22\n",
    "    n.conv22 = L.Convolution(n.deform21, kernel_size=3, num_output=128, stride=2, pad=1, param=param, weight_filler=dict(type='xavier'))\n",
    "    n.relu22 = L.ReLU(n.conv22, in_place=True)\n",
    "    n.bn22 = L.BatchNorm(n.relu22, use_global_stats=global_stats)\n",
    "    \n",
    "    #out\n",
    "    n.pool = L.Pooling(n.bn22, pool=P.Pooling.AVE, global_pooling=True)\n",
    "    n.score = L.InnerProduct(n.pool, num_output=10,  param=param, weight_filler=dict(type='xavier'))\n",
    "    n.loss = L.SoftmaxWithLoss(n.score, n.label)\n",
    "    n.acc = L.Accuracy(n.score, n.label, include=dict(phase=caffe.TEST))\n",
    "    \n",
    "    return n.to_proto()"
   ]
  },
  {
   "cell_type": "code",
   "execution_count": 7,
   "metadata": {
    "collapsed": true,
    "deletable": true,
    "editable": true
   },
   "outputs": [],
   "source": [
    "deform_train_path = 'deform_train.pt'\n",
    "deform_test_path = 'deform_test.pt'\n",
    "deform_solver_path = 'deform_solver.pt'"
   ]
  },
  {
   "cell_type": "code",
   "execution_count": 8,
   "metadata": {
    "collapsed": true,
    "deletable": true,
    "editable": true
   },
   "outputs": [],
   "source": [
    "with open(deform_train_path, 'w') as f:\n",
    "    f.write(str(deform_CNN('/mnt/lustre/chendagui/deform_mnist/deform_train_lmdb/', 64, True)))\n",
    "with open(deform_test_path, 'w') as f:\n",
    "    f.write(str(deform_CNN('/mnt/lustre/chendagui/deform_mnist/deform_test_lmdb/', 100, True)))"
   ]
  },
  {
   "cell_type": "code",
   "execution_count": 12,
   "metadata": {
    "collapsed": false,
    "deletable": true,
    "editable": true
   },
   "outputs": [],
   "source": [
    "with open(deform_solver_path, 'w') as f:\n",
    "    f.write(str(solver(deform_train_path, deform_test_path, 'snapshot/deform_CNN')))"
   ]
  },
  {
   "cell_type": "code",
   "execution_count": null,
   "metadata": {
    "collapsed": true,
    "deletable": true,
    "editable": true
   },
   "outputs": [],
   "source": []
  },
  {
   "cell_type": "code",
   "execution_count": null,
   "metadata": {
    "collapsed": true,
    "deletable": true,
    "editable": true
   },
   "outputs": [],
   "source": []
  }
 ],
 "metadata": {
  "kernelspec": {
   "display_name": "Python 2",
   "language": "python",
   "name": "python2"
  },
  "language_info": {
   "codemirror_mode": {
    "name": "ipython",
    "version": 2
   },
   "file_extension": ".py",
   "mimetype": "text/x-python",
   "name": "python",
   "nbconvert_exporter": "python",
   "pygments_lexer": "ipython2",
   "version": "2.7.5"
  }
 },
 "nbformat": 4,
 "nbformat_minor": 2
}
