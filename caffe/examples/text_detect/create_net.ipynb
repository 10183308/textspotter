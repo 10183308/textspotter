{
 "cells": [
  {
   "cell_type": "code",
   "execution_count": 1,
   "metadata": {
    "collapsed": false,
    "deletable": true,
    "editable": true
   },
   "outputs": [],
   "source": [
    "caffe_root  = '/data1/liuxuebo/caffe/'\n",
    "import sys\n",
    "sys.path.insert(0, caffe_root + 'python')\n",
    "sys.path.insert(0, 'python')\n",
    "import caffe\n",
    "import os\n",
    "from caffe import layers as L, params as P\n",
    "from caffe.proto import caffe_pb2\n",
    "from google.protobuf.text_format import Merge\n",
    "from res_detect import ResNet\n",
    "from vgg_detect import VggNet\n",
    "import re"
   ]
  },
  {
   "cell_type": "code",
   "execution_count": null,
   "metadata": {
    "collapsed": false,
    "deletable": true,
    "editable": true
   },
   "outputs": [],
   "source": [
    "res = ResNet('./icdar_all.txt', 'test')\n",
    "s = str(res.resnet_layers_proto(2))\n",
    "newnet, number = re.subn('only_forward', 'lambda: 10 \\n\\tonly_forward', s)\n",
    "with open('train_res.pt', 'w') as f:\n",
    "    f.write(newnet)"
   ]
  },
  {
   "cell_type": "code",
   "execution_count": 2,
   "metadata": {
    "collapsed": false,
    "deletable": true,
    "editable": true
   },
   "outputs": [
    {
     "name": "stdout",
     "output_type": "stream",
     "text": [
      "64\n"
     ]
    }
   ],
   "source": [
    "vgg = VggNet('icdar_all.txt', '')\n",
    "s = str(vgg.vgg_16_bn_proto(4, 32))\n",
    "newnet, number = re.subn('only_forward', 'lambda: 10 \\n\\tonly_forward', s)\n",
    "with open('/data1/liuxuebo/text_detect/train_vgg_small.pt', 'w') as f:\n",
    "    f.write(newnet)"
   ]
  },
  {
   "cell_type": "code",
   "execution_count": null,
   "metadata": {
    "collapsed": true
   },
   "outputs": [],
   "source": []
  }
 ],
 "metadata": {
  "kernelspec": {
   "display_name": "Python 2",
   "language": "python",
   "name": "python2"
  },
  "language_info": {
   "codemirror_mode": {
    "name": "ipython",
    "version": 2
   },
   "file_extension": ".py",
   "mimetype": "text/x-python",
   "name": "python",
   "nbconvert_exporter": "python",
   "pygments_lexer": "ipython2",
   "version": "2.7.6"
  }
 },
 "nbformat": 4,
 "nbformat_minor": 2
}
